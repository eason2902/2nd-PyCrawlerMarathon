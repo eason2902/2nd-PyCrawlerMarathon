{
 "cells": [
  {
   "cell_type": "markdown",
   "metadata": {},
   "source": [
    "# 作業\n",
    "\n",
    "以正確的副檔名下載網頁中的圖片\n",
    "範例網頁:https://www.ptt.cc/bbs/Beauty/M.1556291059.A.75A.html\n",
    "\n",
    "Note：因為 PTT 會詢問「是否滿 18 歲」，這邊可以用 cookies 繞過\n",
    "\n",
    "`requests.get(URL, cookies={'over18': '1'}`\n"
   ]
  },
  {
   "cell_type": "code",
   "execution_count": 13,
   "metadata": {},
   "outputs": [],
   "source": [
    "import requests\n",
    "import os\n",
    "\n",
    "from bs4 import BeautifulSoup\n",
    "from PIL import Image\n",
    "from pprint import pprint"
   ]
  },
  {
   "cell_type": "code",
   "execution_count": 35,
   "metadata": {},
   "outputs": [
    {
     "data": {
      "text/plain": [
       "[<a href=\"https://imgur.com/Cgb5oo1\" rel=\"nofollow\" target=\"_blank\">https://imgur.com/Cgb5oo1</a>,\n",
       " <a href=\"//imgur.com/Cgb5oo1\"></a>,\n",
       " <a href=\"https://imgur.com/MgjHY4f\" rel=\"nofollow\" target=\"_blank\">https://imgur.com/MgjHY4f</a>,\n",
       " <a href=\"//imgur.com/MgjHY4f\"></a>,\n",
       " <a href=\"https://imgur.com/yeoRtAs\" rel=\"nofollow\" target=\"_blank\">https://imgur.com/yeoRtAs</a>,\n",
       " <a href=\"//imgur.com/yeoRtAs\"></a>,\n",
       " <a href=\"https://imgur.com/wsauNEW\" rel=\"nofollow\" target=\"_blank\">https://imgur.com/wsauNEW</a>,\n",
       " <a href=\"//imgur.com/wsauNEW\"></a>,\n",
       " <a href=\"https://imgur.com/IjiETcs\" rel=\"nofollow\" target=\"_blank\">https://imgur.com/IjiETcs</a>,\n",
       " <a href=\"//imgur.com/IjiETcs\"></a>,\n",
       " <a href=\"https://www.ptt.cc/bbs/Beauty/M.1556291059.A.75A.html\" rel=\"nofollow\" target=\"_blank\">https://www.ptt.cc/bbs/Beauty/M.1556291059.A.75A.html</a>]"
      ]
     },
     "execution_count": 35,
     "metadata": {},
     "output_type": "execute_result"
    }
   ],
   "source": [
    "url = 'https://www.ptt.cc/bbs/Beauty/M.1556291059.A.75A.html'\n",
    "resp = requests.get(url, cookies={'over18': '1'})\n",
    "soup = BeautifulSoup(resp.text)\n",
    "soup.find(id=\"main-container\").findChildren('a',recursive=True)"
   ]
  },
  {
   "cell_type": "code",
   "execution_count": 44,
   "metadata": {},
   "outputs": [
    {
     "name": "stdout",
     "output_type": "stream",
     "text": [
      "Save image D:/GitHub/2nd-PyCrawlerMarathon/Data/Day009/Cgb5oo1.jpg\n",
      "Save image D:/GitHub/2nd-PyCrawlerMarathon/Data/Day009/MgjHY4f.jpg\n",
      "Save image D:/GitHub/2nd-PyCrawlerMarathon/Data/Day009/yeoRtAs.jpg\n",
      "Save image D:/GitHub/2nd-PyCrawlerMarathon/Data/Day009/wsauNEW.jpg\n",
      "Save image D:/GitHub/2nd-PyCrawlerMarathon/Data/Day009/IjiETcs.jpg\n"
     ]
    }
   ],
   "source": [
    "# 決定要儲存的資料夾\n",
    "output_dir = 'D:/GitHub/2nd-PyCrawlerMarathon/Data/Day009'\n",
    "\n",
    "# 假如資料夾不存在就新增一個資料夾\n",
    "if not os.path.exists(output_dir):\n",
    "    os.makedirs(output_dir)\n",
    "\n",
    "# 定位所有圖片的 tag\n",
    "image_tags = soup.find(id=\"main-container\").findChildren('a',recursive=True)\n",
    "for img_tag in image_tags:\n",
    "    # 取得所有圖片在第三方服務的 id\n",
    "    if 'https' in img_tag['href']:\n",
    "        continue\n",
    "    img_id = '{}.jpg'.format(img_tag['href'].split('/')[-1])\n",
    "    # 組合圖片而非網站的網址\n",
    "    img_url = 'https://i.imgur.com/{}'.format(img_id)\n",
    "    # 對圖片送出請求\n",
    "    with requests.get(img_url, stream=True) as r:\n",
    "        r.raise_for_status()\n",
    "        img = Image.open(r.raw)\n",
    "    img_savename = '{outdir}/{img_id}'.format(outdir=output_dir, img_id=img_id )\n",
    "    img.save(img_savename)\n",
    "    print('Save image {}'.format(img_savename))"
   ]
  },
  {
   "cell_type": "code",
   "execution_count": 39,
   "metadata": {},
   "outputs": [
    {
     "name": "stdout",
     "output_type": "stream",
     "text": [
      "<a href=\"//imgur.com/Cgb5oo1\"></a>\n",
      "<a href=\"//imgur.com/MgjHY4f\"></a>\n",
      "<a href=\"//imgur.com/yeoRtAs\"></a>\n",
      "<a href=\"//imgur.com/wsauNEW\"></a>\n",
      "<a href=\"//imgur.com/IjiETcs\"></a>\n"
     ]
    }
   ],
   "source": [
    "for i in image_tags:\n",
    "    if 'https' in i['href']:\n",
    "        continue\n",
    "    print(i)"
   ]
  },
  {
   "cell_type": "code",
   "execution_count": 40,
   "metadata": {},
   "outputs": [
    {
     "name": "stdout",
     "output_type": "stream",
     "text": [
      "11 <a href=\"https://imgur.com/Cgb5oo1\" rel=\"nofollow\" target=\"_blank\">https://imgur.com/Cgb5oo1</a>\n",
      "//imgur.com/Cgb5oo1\n",
      "Cgb5oo1.jpg\n",
      "Save image D:/GitHub/2nd-PyCrawlerMarathon/Data/Day009/Cgb5oo1.jpg\n"
     ]
    }
   ],
   "source": [
    "output_dir = 'D:/GitHub/2nd-PyCrawlerMarathon/Data/Day009'\n",
    "image_tags = soup.find(id=\"main-container\").findChildren('a',recursive=True)\n",
    "print(len(image_tags),image_tags[0])\n",
    "target = image_tags[1]['href']\n",
    "print(target)\n",
    "img_id = '{}.jpg'.format(target.split('/')[-1])\n",
    "print(img_id)\n",
    "img_url = 'https://i.imgur.com/{}'.format(img_id)\n",
    "with requests.get(img_url, stream=True) as r:\n",
    "    r.raise_for_status()\n",
    "    img = Image.open(r.raw)\n",
    "    img_savename = '{outdir}/{img_id}'.format(outdir=output_dir, img_id=img_id )\n",
    "    img.save(img_savename)\n",
    "print('Save image {}'.format(img_savename))"
   ]
  },
  {
   "cell_type": "code",
   "execution_count": null,
   "metadata": {},
   "outputs": [],
   "source": []
  }
 ],
 "metadata": {
  "kernelspec": {
   "display_name": "Python 3",
   "language": "python",
   "name": "python3"
  },
  "language_info": {
   "codemirror_mode": {
    "name": "ipython",
    "version": 3
   },
   "file_extension": ".py",
   "mimetype": "text/x-python",
   "name": "python",
   "nbconvert_exporter": "python",
   "pygments_lexer": "ipython3",
   "version": "3.7.6"
  }
 },
 "nbformat": 4,
 "nbformat_minor": 2
}
