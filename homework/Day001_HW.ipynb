{
 "cells": [
  {
   "cell_type": "markdown",
   "metadata": {},
   "source": [
    "#1\n",
    "依據資料獲取的方式區分為檔案、API、網頁爬蟲，檔案即為網頁有提供下載，API可讓使用者選擇要讀取資料的特定部分，若資料單純出現在網頁上，\n",
    "則須採用網頁爬蟲。"
   ]
  },
  {
   "cell_type": "code",
   "execution_count": 4,
   "metadata": {},
   "outputs": [
    {
     "data": {
      "text/plain": [
       "('D:\\\\Jupyter\\\\cupoy_crawl\\\\day1\\\\Data\\\\Homework.txt',\n",
       " <http.client.HTTPMessage at 0x624f5dabc8>)"
      ]
     },
     "execution_count": 4,
     "metadata": {},
     "output_type": "execute_result"
    }
   ],
   "source": [
    "from urllib.request import urlretrieve\n",
    "urlretrieve('https://www.w3.org/TR/PNG/iso_8859-1.txt',r'D:\\Jupyter\\cupoy_crawl\\day1\\Data\\Homework.txt')"
   ]
  },
  {
   "cell_type": "code",
   "execution_count": 11,
   "metadata": {},
   "outputs": [
    {
     "name": "stdout",
     "output_type": "stream",
     "text": [
      "Data資料夾內有Homework.txt\n",
      "Homework.txt檔案字數符合Hello World\n"
     ]
    }
   ],
   "source": [
    "import os ,sys\n",
    "alldir = os.listdir('./Data')\n",
    "#print(alldir)\n",
    "target = 'Homework.txt'\n",
    "if target in alldir:\n",
    "    print('Data資料夾內有{}'.format(target))\n",
    "else:\n",
    "    print('Data資料夾內無{}'.format(target))\n",
    "\n",
    "path = './Data/'+target\n",
    "with open(path,'w') as w:\n",
    "    w.write('Hello World')\n",
    "\n",
    "with open(path,'r') as r:\n",
    "    txt = r.read()\n",
    "#print(txt)\n",
    "if len(txt) == len('Hello World'):\n",
    "    print('{}檔案字數符合Hello World'.format(target))\n",
    "else:\n",
    "    print('{}檔案字數不符合Hello World'.format(target))\n",
    "    "
   ]
  }
 ],
 "metadata": {
  "kernelspec": {
   "display_name": "Python 3",
   "language": "python",
   "name": "python3"
  },
  "language_info": {
   "codemirror_mode": {
    "name": "ipython",
    "version": 3
   },
   "file_extension": ".py",
   "mimetype": "text/x-python",
   "name": "python",
   "nbconvert_exporter": "python",
   "pygments_lexer": "ipython3",
   "version": "3.7.6"
  }
 },
 "nbformat": 4,
 "nbformat_minor": 4
}
