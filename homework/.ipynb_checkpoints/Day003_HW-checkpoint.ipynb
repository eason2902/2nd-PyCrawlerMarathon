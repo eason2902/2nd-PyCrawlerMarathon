{
 "cells": [
  {
   "cell_type": "markdown",
   "metadata": {},
   "source": [
    "1.請問高雄市有多少地區有溫度資料？\n",
    "2.請取出每一個地區所記錄的第一個時間點跟溫度\n",
    "3.請取出第一個地區所記錄的每一個時間點跟溫度"
   ]
  },
  {
   "cell_type": "code",
   "execution_count": 1,
   "metadata": {},
   "outputs": [
    {
     "name": "stdout",
     "output_type": "stream",
     "text": [
      "<class 'str'> 2583808\n"
     ]
    }
   ],
   "source": [
    "with open('D:/GitHub/2nd-PyCrawlerMarathon/Data/Day003/64_72hr_CH.xml','r',encoding = 'utf-8') as f:\n",
    "    xml =f.read()\n",
    "print(type(xml),len(xml))\n",
    "#print(xml[:10000])"
   ]
  },
  {
   "cell_type": "code",
   "execution_count": 81,
   "metadata": {},
   "outputs": [
    {
     "name": "stdout",
     "output_type": "stream",
     "text": [
      "鹽埕區,鼓山區,左營區,楠梓區,三民區,新興區,前金區,苓雅區,前鎮區,旗津區,小港區,鳳山區,林園區,大寮區,大樹區,大社區,仁武區,鳥松區,岡山區,橋頭區,燕巢區,田寮區,阿蓮區,路竹區,湖內區,茄萣區,永安區,彌陀區,梓官區,旗山區,美濃區,六龜區,甲仙區,杉林區,內門區,茂林區,桃源區,那瑪夏區,38\n",
      "ans:共有38個地區有溫度資料\n"
     ]
    }
   ],
   "source": [
    "#1.請問高雄市有多少地區有溫度資料？\n",
    "from pprint import pprint\n",
    "all_location = d['cwbopendata']['dataset']['locations']['location']\n",
    "count = 0\n",
    "for location in all_location:\n",
    "    count = count + 1\n",
    "    print(location['locationName'],end=',')\n",
    "print(count)\n",
    "print('ans:共有{}個地區有溫度資料'.format(len(all_location)))"
   ]
  },
  {
   "cell_type": "code",
   "execution_count": 100,
   "metadata": {
    "scrolled": true
   },
   "outputs": [
    {
     "name": "stdout",
     "output_type": "stream",
     "text": [
      "鹽埕區,2019-06-28T12:00:00+08:00,溫度:33\n",
      "鼓山區,2019-06-28T12:00:00+08:00,溫度:33\n",
      "左營區,2019-06-28T12:00:00+08:00,溫度:33\n",
      "楠梓區,2019-06-28T12:00:00+08:00,溫度:34\n",
      "三民區,2019-06-28T12:00:00+08:00,溫度:32\n",
      "新興區,2019-06-28T12:00:00+08:00,溫度:33\n",
      "前金區,2019-06-28T12:00:00+08:00,溫度:33\n",
      "苓雅區,2019-06-28T12:00:00+08:00,溫度:33\n",
      "前鎮區,2019-06-28T12:00:00+08:00,溫度:33\n",
      "旗津區,2019-06-28T12:00:00+08:00,溫度:32\n",
      "小港區,2019-06-28T12:00:00+08:00,溫度:33\n",
      "鳳山區,2019-06-28T12:00:00+08:00,溫度:34\n",
      "林園區,2019-06-28T12:00:00+08:00,溫度:33\n",
      "大寮區,2019-06-28T12:00:00+08:00,溫度:34\n",
      "大樹區,2019-06-28T12:00:00+08:00,溫度:34\n",
      "大社區,2019-06-28T12:00:00+08:00,溫度:34\n",
      "仁武區,2019-06-28T12:00:00+08:00,溫度:33\n",
      "鳥松區,2019-06-28T12:00:00+08:00,溫度:34\n",
      "岡山區,2019-06-28T12:00:00+08:00,溫度:34\n",
      "橋頭區,2019-06-28T12:00:00+08:00,溫度:35\n",
      "燕巢區,2019-06-28T12:00:00+08:00,溫度:34\n",
      "田寮區,2019-06-28T12:00:00+08:00,溫度:34\n",
      "阿蓮區,2019-06-28T12:00:00+08:00,溫度:34\n",
      "路竹區,2019-06-28T12:00:00+08:00,溫度:33\n",
      "湖內區,2019-06-28T12:00:00+08:00,溫度:33\n",
      "茄萣區,2019-06-28T12:00:00+08:00,溫度:33\n",
      "永安區,2019-06-28T12:00:00+08:00,溫度:32\n",
      "彌陀區,2019-06-28T12:00:00+08:00,溫度:32\n",
      "梓官區,2019-06-28T12:00:00+08:00,溫度:32\n",
      "旗山區,2019-06-28T12:00:00+08:00,溫度:34\n",
      "美濃區,2019-06-28T12:00:00+08:00,溫度:34\n",
      "六龜區,2019-06-28T12:00:00+08:00,溫度:34\n",
      "甲仙區,2019-06-28T12:00:00+08:00,溫度:33\n",
      "杉林區,2019-06-28T12:00:00+08:00,溫度:36\n",
      "內門區,2019-06-28T12:00:00+08:00,溫度:34\n",
      "茂林區,2019-06-28T12:00:00+08:00,溫度:34\n",
      "桃源區,2019-06-28T12:00:00+08:00,溫度:31\n",
      "那瑪夏區,2019-06-28T12:00:00+08:00,溫度:29\n"
     ]
    }
   ],
   "source": [
    "#2.請取出每一個地區所記錄的第一個時間點跟溫度\n",
    "all_location = d['cwbopendata']['dataset']['locations']['location']\n",
    " \n",
    "for location in all_location:\n",
    "    print(location['locationName'],location['weatherElement'][0]['time'][0]['dataTime'],\n",
    "          '溫度:'+location['weatherElement'][0]['time'][0]['elementValue']['value'],sep=',')"
   ]
  },
  {
   "cell_type": "code",
   "execution_count": 104,
   "metadata": {},
   "outputs": [
    {
     "name": "stdout",
     "output_type": "stream",
     "text": [
      "鹽埕區的時間及溫度資料如下:\n",
      "2019-06-28T12:00:00+08:00 溫度:33\n",
      "2019-06-28T15:00:00+08:00 溫度:33\n",
      "2019-06-28T18:00:00+08:00 溫度:32\n",
      "2019-06-28T21:00:00+08:00 溫度:30\n",
      "2019-06-29T00:00:00+08:00 溫度:30\n",
      "2019-06-29T03:00:00+08:00 溫度:29\n",
      "2019-06-29T06:00:00+08:00 溫度:28\n",
      "2019-06-29T09:00:00+08:00 溫度:31\n",
      "2019-06-29T12:00:00+08:00 溫度:32\n",
      "2019-06-29T15:00:00+08:00 溫度:32\n",
      "2019-06-29T18:00:00+08:00 溫度:31\n",
      "2019-06-29T21:00:00+08:00 溫度:30\n",
      "2019-06-30T00:00:00+08:00 溫度:29\n",
      "2019-06-30T03:00:00+08:00 溫度:28\n",
      "2019-06-30T06:00:00+08:00 溫度:28\n",
      "2019-06-30T09:00:00+08:00 溫度:31\n",
      "2019-06-30T12:00:00+08:00 溫度:32\n",
      "2019-06-30T15:00:00+08:00 溫度:32\n",
      "2019-06-30T18:00:00+08:00 溫度:31\n",
      "2019-06-30T21:00:00+08:00 溫度:30\n",
      "2019-07-01T00:00:00+08:00 溫度:29\n",
      "2019-07-01T03:00:00+08:00 溫度:29\n",
      "2019-07-01T06:00:00+08:00 溫度:28\n",
      "2019-07-01T09:00:00+08:00 溫度:31\n"
     ]
    }
   ],
   "source": [
    "#3.請取出第一個地區所記錄的每一個時間點跟溫度\n",
    "print(d['cwbopendata']['dataset']['locations']['location'][0]['locationName']+'的時間及溫度資料如下:') #第一個地區名\n",
    "all_time = d['cwbopendata']['dataset']['locations']['location'][0]['weatherElement'][0]['time']\n",
    "all_time[0]['dataTime']\n",
    "for time in all_time:\n",
    "    print(time['dataTime'],'溫度:'+time['elementValue']['value'])"
   ]
  },
  {
   "cell_type": "code",
   "execution_count": 82,
   "metadata": {},
   "outputs": [
    {
     "name": "stdout",
     "output_type": "stream",
     "text": [
      "鹽埕區,鼓山區,左營區,楠梓區,三民區,新興區,前金區,苓雅區,前鎮區,旗津區,小港區,鳳山區,林園區,大寮區,大樹區,大社區,仁武區,鳥松區,岡山區,橋頭區,燕巢區,田寮區,阿蓮區,路竹區,湖內區,茄萣區,永安區,彌陀區,梓官區,旗山區,美濃區,六龜區,甲仙區,杉林區,內門區,茂林區,桃源區,那瑪夏區,\n",
      "\n",
      "OrderedDict([('elementName', 'T'),\n",
      "             ('description', '溫度'),\n",
      "             ('time',\n",
      "              [OrderedDict([('dataTime', '2019-06-28T12:00:00+08:00'),\n",
      "                            ('elementValue',\n",
      "                             OrderedDict([('value', '33'),\n",
      "                                          ('measures', '攝氏度')]))]),\n",
      "               OrderedDict([('dataTime', '2019-06-28T15:00:00+08:00'),\n",
      "                            ('elementValue',\n",
      "                             OrderedDict([('value', '33'),\n",
      "                                          ('measures', '攝氏度')]))]),\n",
      "               OrderedDict([('dataTime', '2019-06-28T18:00:00+08:00'),\n",
      "                            ('elementValue',\n",
      "                             OrderedDict([('value', '32'),\n",
      "                                          ('measures', '攝氏度')]))]),\n",
      "               OrderedDict([('dataTime', '2019-06-28T21:00:00+08:00'),\n",
      "                            ('elementValue',\n",
      "                             OrderedDict([('value', '30'),\n",
      "                                          ('measures', '攝氏度')]))]),\n",
      "               OrderedDict([('dataTime', '2019-06-29T00:00:00+08:00'),\n",
      "                            ('elementValue',\n",
      "                             OrderedDict([('value', '30'),\n",
      "                                          ('measures', '攝氏度')]))]),\n",
      "               OrderedDict([('dataTime', '2019-06-29T03:00:00+08:00'),\n",
      "                            ('elementValue',\n",
      "                             OrderedDict([('value', '29'),\n",
      "                                          ('measures', '攝氏度')]))]),\n",
      "               OrderedDict([('dataTime', '2019-06-29T06:00:00+08:00'),\n",
      "                            ('elementValue',\n",
      "                             OrderedDict([('value', '28'),\n",
      "                                          ('measures', '攝氏度')]))]),\n",
      "               OrderedDict([('dataTime', '2019-06-29T09:00:00+08:00'),\n",
      "                            ('elementValue',\n",
      "                             OrderedDict([('value', '31'),\n",
      "                                          ('measures', '攝氏度')]))]),\n",
      "               OrderedDict([('dataTime', '2019-06-29T12:00:00+08:00'),\n",
      "                            ('elementValue',\n",
      "                             OrderedDict([('value', '32'),\n",
      "                                          ('measures', '攝氏度')]))]),\n",
      "               OrderedDict([('dataTime', '2019-06-29T15:00:00+08:00'),\n",
      "                            ('elementValue',\n",
      "                             OrderedDict([('value', '32'),\n",
      "                                          ('measures', '攝氏度')]))]),\n",
      "               OrderedDict([('dataTime', '2019-06-29T18:00:00+08:00'),\n",
      "                            ('elementValue',\n",
      "                             OrderedDict([('value', '31'),\n",
      "                                          ('measures', '攝氏度')]))]),\n",
      "               OrderedDict([('dataTime', '2019-06-29T21:00:00+08:00'),\n",
      "                            ('elementValue',\n",
      "                             OrderedDict([('value', '30'),\n",
      "                                          ('measures', '攝氏度')]))]),\n",
      "               OrderedDict([('dataTime', '2019-06-30T00:00:00+08:00'),\n",
      "                            ('elementValue',\n",
      "                             OrderedDict([('value', '29'),\n",
      "                                          ('measures', '攝氏度')]))]),\n",
      "               OrderedDict([('dataTime', '2019-06-30T03:00:00+08:00'),\n",
      "                            ('elementValue',\n",
      "                             OrderedDict([('value', '28'),\n",
      "                                          ('measures', '攝氏度')]))]),\n",
      "               OrderedDict([('dataTime', '2019-06-30T06:00:00+08:00'),\n",
      "                            ('elementValue',\n",
      "                             OrderedDict([('value', '28'),\n",
      "                                          ('measures', '攝氏度')]))]),\n",
      "               OrderedDict([('dataTime', '2019-06-30T09:00:00+08:00'),\n",
      "                            ('elementValue',\n",
      "                             OrderedDict([('value', '31'),\n",
      "                                          ('measures', '攝氏度')]))]),\n",
      "               OrderedDict([('dataTime', '2019-06-30T12:00:00+08:00'),\n",
      "                            ('elementValue',\n",
      "                             OrderedDict([('value', '32'),\n",
      "                                          ('measures', '攝氏度')]))]),\n",
      "               OrderedDict([('dataTime', '2019-06-30T15:00:00+08:00'),\n",
      "                            ('elementValue',\n",
      "                             OrderedDict([('value', '32'),\n",
      "                                          ('measures', '攝氏度')]))]),\n",
      "               OrderedDict([('dataTime', '2019-06-30T18:00:00+08:00'),\n",
      "                            ('elementValue',\n",
      "                             OrderedDict([('value', '31'),\n",
      "                                          ('measures', '攝氏度')]))]),\n",
      "               OrderedDict([('dataTime', '2019-06-30T21:00:00+08:00'),\n",
      "                            ('elementValue',\n",
      "                             OrderedDict([('value', '30'),\n",
      "                                          ('measures', '攝氏度')]))]),\n",
      "               OrderedDict([('dataTime', '2019-07-01T00:00:00+08:00'),\n",
      "                            ('elementValue',\n",
      "                             OrderedDict([('value', '29'),\n",
      "                                          ('measures', '攝氏度')]))]),\n",
      "               OrderedDict([('dataTime', '2019-07-01T03:00:00+08:00'),\n",
      "                            ('elementValue',\n",
      "                             OrderedDict([('value', '29'),\n",
      "                                          ('measures', '攝氏度')]))]),\n",
      "               OrderedDict([('dataTime', '2019-07-01T06:00:00+08:00'),\n",
      "                            ('elementValue',\n",
      "                             OrderedDict([('value', '28'),\n",
      "                                          ('measures', '攝氏度')]))]),\n",
      "               OrderedDict([('dataTime', '2019-07-01T09:00:00+08:00'),\n",
      "                            ('elementValue',\n",
      "                             OrderedDict([('value', '31'),\n",
      "                                          ('measures', '攝氏度')]))])])])\n",
      "----------------\n",
      "OrderedDict([('dataTime', '2019-06-28T12:00:00+08:00'),\n",
      "             ('elementValue',\n",
      "              OrderedDict([('value', '33'), ('measures', '攝氏度')]))])\n",
      "第一個地區所記錄的第一個時間點跟溫度----------------\n",
      "鹽埕區\n",
      "2019-06-28T12:00:00+08:00 \n",
      "\n",
      "33\n"
     ]
    }
   ],
   "source": [
    "from pprint import pprint\n",
    "all_location = d['cwbopendata']['dataset']['locations']['location']\n",
    "for location in all_location:\n",
    "    print(location['locationName'],end=',')\n",
    "print('\\n')   \n",
    "\n",
    "#all_weatherElement = d['cwbopendata']['dataset']['locations']['location'][0]['weatherElement']\n",
    "#for element in all_weatherElement:\n",
    "#    print(element['description'],end=',')\n",
    "\n",
    "    \n",
    "\n",
    "pprint(d['cwbopendata']['dataset']['locations']['location'][0]['weatherElement'][0])\n",
    "print('----------------')\n",
    "pprint(d['cwbopendata']['dataset']['locations']['location'][0]['weatherElement'][0]['time'][0] )\n",
    "print('第一個地區所記錄的第一個時間點跟溫度----------------')\n",
    "print(d['cwbopendata']['dataset']['locations']['location'][0]['locationName']) #第一個地區名\n",
    "print(d['cwbopendata']['dataset']['locations']['location'][0]['weatherElement'][0]['time'][0]['dataTime'],'\\n') #第一個時間點\n",
    "print(d['cwbopendata']['dataset']['locations']['location'][0]['weatherElement'][0]['time'][0]['elementValue']['value']) #第一個溫度"
   ]
  },
  {
   "cell_type": "code",
   "execution_count": 17,
   "metadata": {},
   "outputs": [
    {
     "name": "stdout",
     "output_type": "stream",
     "text": [
      "dict_keys(['cwbopendata'])\n",
      "odict_keys(['@xmlns', 'identifier', 'sender', 'sent', 'status', 'scope', 'msgType', 'dataid', 'source', 'dataset'])\n",
      "odict_keys(['datasetInfo', 'locations'])\n",
      "odict_keys(['datasetDescription', 'datasetLanguage', 'issueTime', 'validTime', 'update'])\n",
      "<class 'str'>\n",
      "臺灣各縣市鄉鎮未來3天(72小時)逐3小時天氣預報\n"
     ]
    }
   ],
   "source": [
    "import xmltodict\n",
    "d = dict(xmltodict.parse(xml))\n",
    "print(d.keys(),d['cwbopendata'].keys(),d['cwbopendata']['dataset'].keys(),sep= '\\n')\n",
    "print(d['cwbopendata']['dataset']['datasetInfo'].keys())\n",
    "print(type(d['cwbopendata']['dataset']['datasetInfo']['datasetDescription']))\n",
    "print(d['cwbopendata']['dataset']['datasetInfo']['datasetDescription'])"
   ]
  },
  {
   "cell_type": "code",
   "execution_count": 24,
   "metadata": {},
   "outputs": [
    {
     "name": "stdout",
     "output_type": "stream",
     "text": [
      "odict_keys(['locationsName', 'location'])\n",
      "OrderedDict([('locationName', '鹽埕區'), ('geocode', '6400100'), ('lat', '22.626497'), ('lon', '120.278707'), ('weatherElement', [OrderedDict([('elementName', 'T'), ('description', '溫度'), ('time', [OrderedDict([('dataTime', '2019-06-28T12:00:00+08:00'), ('elementValue', OrderedDict([('value', '33'), ('measures', '攝氏度')]))]), OrderedDict([('dataTime', '2019-06-28T15:00:00+08:00'), ('elementValue', OrderedDict([('value', '33'), ('measures', '攝氏度')]))]), OrderedDict([('dataTime', '2019-06-28T18:00:00+08:00'), ('elementValue', OrderedDict([('value', '32'), ('measures', '攝氏度')]))]), OrderedDict([('dataTime', '2019-06-28T21:00:00+08:00'), ('elementValue', OrderedDict([('value', '30'), ('measures', '攝氏度')]))]), OrderedDict([('dataTime', '2019-06-29T00:00:00+08:00'), ('elementValue', OrderedDict([('value', '30'), ('measures', '攝氏度')]))]), OrderedDict([('dataTime', '2019-06-29T03:00:00+08:00'), ('elementValue', OrderedDict([('value', '29'), ('measures', '攝氏度')]))]), OrderedDict([('dataTime', '2019-06-29T06:00:00+08:00'), ('elementValue', OrderedDict([('value', '28'), ('measures', '攝氏度')]))]), OrderedDict([('dataTime', '2019-06-29T09:00:00+08:00'), ('elementValue', OrderedDict([('value', '31'), ('measures', '攝氏度')]))]), OrderedDict([('dataTime', '2019-06-29T12:00:00+08:00'), ('elementValue', OrderedDict([('value', '32'), ('measures', '攝氏度')]))]), OrderedDict([('dataTime', '2019-06-29T15:00:00+08:00'), ('elementValue', OrderedDict([('value', '32'), ('measures', '攝氏度')]))]), OrderedDict([('dataTime', '2019-06-29T18:00:00+08:00'), ('elementValue', OrderedDict([('value', '31'), ('measures', '攝氏度')]))]), OrderedDict([('dataTime', '2019-06-29T21:00:00+08:00'), ('elementValue', OrderedDict([('value', '30'), ('measures', '攝氏度')]))]), OrderedDict([('dataTime', '2019-06-30T00:00:00+08:00'), ('elementValue', OrderedDict([('value', '29'), ('measures', '攝氏度')]))]), OrderedDict([('dataTime', '2019-06-30T03:00:00+08:00'), ('elementValue', OrderedDict([('value', '28'), ('measures', '攝氏度')]))]), OrderedDict([('dataTime', '2019-06-30T06:00:00+08:00'), ('elementValue', OrderedDict([('value', '28'), ('measures', '攝氏度')]))]), OrderedDict([('dataTime', '2019-06-30T09:00:00+08:00'), ('elementValue', OrderedDict([('value', '31'), ('measures', '攝氏度')]))]), OrderedDict([('dataTime', '2019-06-30T12:00:00+08:00'), ('elementValue', OrderedDict([('value', '32'), ('measures', '攝氏度')]))]), OrderedDict([('dataTime', '2019-06-30T15:00:00+08:00'), ('elementValue', OrderedDict([('value', '32'), ('measures', '攝氏度')]))]), OrderedDict([('dataTime', '2019-06-30T18:00:00+08:00'), ('elementValue', OrderedDict([('value', '31'), ('measures', '攝氏度')]))]), OrderedDict([('dataTime', '2019-06-30T21:00:00+08:00'), ('elementValue', OrderedDict([('value', '30'), ('measures', '攝氏度')]))]), OrderedDict([('dataTime', '2019-07-01T00:00:00+08:00'), ('elementValue', OrderedDict([('value', '29'), ('measures', '攝氏度')]))]), OrderedDict([('dataTime', '2019-07-01T03:00:00+08:00'), ('elementValue', OrderedDict([('value', '29'), ('measures', '攝氏度')]))]), OrderedDict([('dataTime', '2019-07-01T06:00:00+08:00'), ('elementValue', OrderedDict([('value', '28'), ('measures', '攝氏度')]))]), OrderedDict([('dataTime', '2019-07-01T09:00:00+08:00'), ('elementValue', OrderedDict([('value', '31'), ('measures', '攝氏度')]))])])]), OrderedDict([('elementName', 'Td'), ('description', '露點溫度'), ('time', [OrderedDict([('dataTime', '2019-06-28T12:00:00+08:00'), ('elementValue', OrderedDict([('value', '30'), ('measures', '攝氏度')]))]), OrderedDict([('dataTime', '2019-06-28T15:00:00+08:00'), ('elementValue', OrderedDict([('value', '29'), ('measures', '攝氏度')]))]), OrderedDict([('dataTime', '2019-06-28T18:00:00+08:00'), ('elementValue', OrderedDict([('value', '28'), ('measures', '攝氏度')]))]), OrderedDict([('dataTime', '2019-06-28T21:00:00+08:00'), ('elementValue', OrderedDict([('value', '27'), ('measures', '攝氏度')]))]), OrderedDict([('dataTime', '2019-06-29T00:00:00+08:00'), ('elementValue', OrderedDict([('value', '27'), ('measures', '攝氏度')]))]), OrderedDict([('dataTime', '2019-06-29T03:00:00+08:00'), ('elementValue', OrderedDict([('value', '26'), ('measures', '攝氏度')]))]), OrderedDict([('dataTime', '2019-06-29T06:00:00+08:00'), ('elementValue', OrderedDict([('value', '27'), ('measures', '攝氏度')]))]), OrderedDict([('dataTime', '2019-06-29T09:00:00+08:00'), ('elementValue', OrderedDict([('value', '29'), ('measures', '攝氏度')]))]), OrderedDict([('dataTime', '2019-06-29T12:00:00+08:00'), ('elementValue', OrderedDict([('value', '30'), ('measures', '攝氏度')]))]), OrderedDict([('dataTime', '2019-06-29T15:00:00+08:00'), ('elementValue', OrderedDict([('value', '28'), ('measures', '攝氏度')]))]), OrderedDict([('dataTime', '2019-06-29T18:00:00+08:00'), ('elementValue', OrderedDict([('value', '26'), ('measures', '攝氏度')]))]), OrderedDict([('dataTime', '2019-06-29T21:00:00+08:00'), ('elementValue', OrderedDict([('value', '27'), ('measures', '攝氏度')]))]), OrderedDict([('dataTime', '2019-06-30T00:00:00+08:00'), ('elementValue', OrderedDict([('value', '27'), ('measures', '攝氏度')]))]), OrderedDict([('dataTime', '2019-06-30T03:00:00+08:00'), ('elementValue', OrderedDict([('value', '26'), ('measures', '攝氏度')]))]), OrderedDict([('dataTime', '2019-06-30T06:00:00+08:00'), ('elementValue', OrderedDict([('value', '26'), ('measures', '攝氏度')]))]), OrderedDict([('dataTime', '2019-06-30T09:00:00+08:00'), ('elementValue', OrderedDict([('value', '28'), ('measures', '攝氏度')]))]), OrderedDict([('dataTime', '2019-06-30T12:00:00+08:00'), ('elementValue', OrderedDict([('value', '28'), ('measures', '攝氏度')]))]), OrderedDict([('dataTime', '2019-06-30T15:00:00+08:00'), ('elementValue', OrderedDict([('value', '28'), ('measures', '攝氏度')]))]), OrderedDict([('dataTime', '2019-06-30T18:00:00+08:00'), ('elementValue', OrderedDict([('value', '26'), ('measures', '攝氏度')]))]), OrderedDict([('dataTime', '2019-06-30T21:00:00+08:00'), ('elementValue', OrderedDict([('value', '26'), ('measures', '攝氏度')]))]), OrderedDict([('dataTime', '2019-07-01T00:00:00+08:00'), ('elementValue', OrderedDict([('value', '26'), ('measures', '攝氏度')]))]), OrderedDict([('dataTime', '2019-07-01T03:00:00+08:00'), ('elementValue', OrderedDict([('value', '26'), ('measures', '攝氏度')]))]), OrderedDict([('dataTime', '2019-07-01T06:00:00+08:00'), ('elementValue', OrderedDict([('value', '26'), ('measures', '攝氏度')]))]), OrderedDict([('dataTime', '2019-07-01T09:00:00+08:00'), ('elementValue', OrderedDict([('value', '28'), ('measures', '攝氏度')]))])])]), OrderedDict([('elementName', 'RH'), ('description', '相對濕度'), ('time', [OrderedDict([('dataTime', '2019-06-28T12:00:00+08:00'), ('elementValue', OrderedDict([('value', '86'), ('measures', '百分比')]))]), OrderedDict([('dataTime', '2019-06-28T15:00:00+08:00'), ('elementValue', OrderedDict([('value', '80'), ('measures', '百分比')]))]), OrderedDict([('dataTime', '2019-06-28T18:00:00+08:00'), ('elementValue', OrderedDict([('value', '79'), ('measures', '百分比')]))]), OrderedDict([('dataTime', '2019-06-28T21:00:00+08:00'), ('elementValue', OrderedDict([('value', '83'), ('measures', '百分比')]))]), OrderedDict([('dataTime', '2019-06-29T00:00:00+08:00'), ('elementValue', OrderedDict([('value', '87'), ('measures', '百分比')]))]), OrderedDict([('dataTime', '2019-06-29T03:00:00+08:00'), ('elementValue', OrderedDict([('value', '88'), ('measures', '百分比')]))]), OrderedDict([('dataTime', '2019-06-29T06:00:00+08:00'), ('elementValue', OrderedDict([('value', '91'), ('measures', '百分比')]))]), OrderedDict([('dataTime', '2019-06-29T09:00:00+08:00'), ('elementValue', OrderedDict([('value', '91'), ('measures', '百分比')]))]), OrderedDict([('dataTime', '2019-06-29T12:00:00+08:00'), ('elementValue', OrderedDict([('value', '85'), ('measures', '百分比')]))]), OrderedDict([('dataTime', '2019-06-29T15:00:00+08:00'), ('elementValue', OrderedDict([('value', '77'), ('measures', '百分比')]))]), OrderedDict([('dataTime', '2019-06-29T18:00:00+08:00'), ('elementValue', OrderedDict([('value', '77'), ('measures', '百分比')]))]), OrderedDict([('dataTime', '2019-06-29T21:00:00+08:00'), ('elementValue', OrderedDict([('value', '83'), ('measures', '百分比')]))]), OrderedDict([('dataTime', '2019-06-30T00:00:00+08:00'), ('elementValue', OrderedDict([('value', '87'), ('measures', '百分比')]))]), OrderedDict([('dataTime', '2019-06-30T03:00:00+08:00'), ('elementValue', OrderedDict([('value', '89'), ('measures', '百分比')]))]), OrderedDict([('dataTime', '2019-06-30T06:00:00+08:00'), ('elementValue', OrderedDict([('value', '89'), ('measures', '百分比')]))]), OrderedDict([('dataTime', '2019-06-30T09:00:00+08:00'), ('elementValue', OrderedDict([('value', '86'), ('measures', '百分比')]))]), OrderedDict([('dataTime', '2019-06-30T12:00:00+08:00'), ('elementValue', OrderedDict([('value', '81'), ('measures', '百分比')]))]), OrderedDict([('dataTime', '2019-06-30T15:00:00+08:00'), ('elementValue', OrderedDict([('value', '77'), ('measures', '百分比')]))]), OrderedDict([('dataTime', '2019-06-30T18:00:00+08:00'), ('elementValue', OrderedDict([('value', '77'), ('measures', '百分比')]))]), OrderedDict([('dataTime', '2019-06-30T21:00:00+08:00'), ('elementValue', OrderedDict([('value', '79'), ('measures', '百分比')]))]), OrderedDict([('dataTime', '2019-07-01T00:00:00+08:00'), ('elementValue', OrderedDict([('value', '83'), ('measures', '百分比')]))]), OrderedDict([('dataTime', '2019-07-01T03:00:00+08:00'), ('elementValue', OrderedDict([('value', '86'), ('measures', '百分比')]))]), OrderedDict([('dataTime', '2019-07-01T06:00:00+08:00'), ('elementValue', OrderedDict([('value', '88'), ('measures', '百分比')]))]), OrderedDict([('dataTime', '2019-07-01T09:00:00+08:00'), ('elementValue', OrderedDict([('value', '87'), ('measures', '百分比')]))])])]), OrderedDict([('elementName', 'PoP6h'), ('description', '6小時降雨機率'), ('time', [OrderedDict([('startTime', '2019-06-28T12:00:00+08:00'), ('endTime', '2019-06-28T18:00:00+08:00'), ('elementValue', OrderedDict([('value', '10'), ('measures', '百分比')]))]), OrderedDict([('startTime', '2019-06-28T18:00:00+08:00'), ('endTime', '2019-06-29T00:00:00+08:00'), ('elementValue', OrderedDict([('value', '30'), ('measures', '百分比')]))]), OrderedDict([('startTime', '2019-06-29T00:00:00+08:00'), ('endTime', '2019-06-29T06:00:00+08:00'), ('elementValue', OrderedDict([('value', '40'), ('measures', '百分比')]))]), OrderedDict([('startTime', '2019-06-29T06:00:00+08:00'), ('endTime', '2019-06-29T12:00:00+08:00'), ('elementValue', OrderedDict([('value', '30'), ('measures', '百分比')]))]), OrderedDict([('startTime', '2019-06-29T12:00:00+08:00'), ('endTime', '2019-06-29T18:00:00+08:00'), ('elementValue', OrderedDict([('value', '30'), ('measures', '百分比')]))]), OrderedDict([('startTime', '2019-06-29T18:00:00+08:00'), ('endTime', '2019-06-30T00:00:00+08:00'), ('elementValue', OrderedDict([('value', '30'), ('measures', '百分比')]))]), OrderedDict([('startTime', '2019-06-30T00:00:00+08:00'), ('endTime', '2019-06-30T06:00:00+08:00'), ('elementValue', OrderedDict([('value', '50'), ('measures', '百分比')]))]), OrderedDict([('startTime', '2019-06-30T06:00:00+08:00'), ('endTime', '2019-06-30T12:00:00+08:00'), ('elementValue', OrderedDict([('value', '30'), ('measures', '百分比')]))]), OrderedDict([('startTime', '2019-06-30T12:00:00+08:00'), ('endTime', '2019-06-30T18:00:00+08:00'), ('elementValue', OrderedDict([('value', '30'), ('measures', '百分比')]))]), OrderedDict([('startTime', '2019-06-30T18:00:00+08:00'), ('endTime', '2019-07-01T00:00:00+08:00'), ('elementValue', OrderedDict([('value', '10'), ('measures', '百分比')]))]), OrderedDict([('startTime', '2019-07-01T00:00:00+08:00'), ('endTime', '2019-07-01T06:00:00+08:00'), ('elementValue', OrderedDict([('value', '30'), ('measures', '百分比')]))]), OrderedDict([('startTime', '2019-07-01T06:00:00+08:00'), ('endTime', '2019-07-01T12:00:00+08:00'), ('elementValue', OrderedDict([('value', '30'), ('measures', '百分比')]))])])]), OrderedDict([('elementName', 'PoP12h'), ('description', '12小時降雨機率'), ('time', [OrderedDict([('startTime', '2019-06-28T12:00:00+08:00'), ('endTime', '2019-06-29T00:00:00+08:00'), ('elementValue', OrderedDict([('value', '30'), ('measures', '百分比')]))]), OrderedDict([('startTime', '2019-06-29T00:00:00+08:00'), ('endTime', '2019-06-29T12:00:00+08:00'), ('elementValue', OrderedDict([('value', '40'), ('measures', '百分比')]))]), OrderedDict([('startTime', '2019-06-29T12:00:00+08:00'), ('endTime', '2019-06-30T00:00:00+08:00'), ('elementValue', OrderedDict([('value', '30'), ('measures', '百分比')]))]), OrderedDict([('startTime', '2019-06-30T00:00:00+08:00'), ('endTime', '2019-06-30T12:00:00+08:00'), ('elementValue', OrderedDict([('value', '50'), ('measures', '百分比')]))]), OrderedDict([('startTime', '2019-06-30T12:00:00+08:00'), ('endTime', '2019-07-01T00:00:00+08:00'), ('elementValue', OrderedDict([('value', '30'), ('measures', '百分比')]))]), OrderedDict([('startTime', '2019-07-01T00:00:00+08:00'), ('endTime', '2019-07-01T12:00:00+08:00'), ('elementValue', OrderedDict([('value', '30'), ('measures', '百分比')]))])])]), OrderedDict([('elementName', 'WD'), ('description', '風向'), ('time', [OrderedDict([('dataTime', '2019-06-28T12:00:00+08:00'), ('elementValue', OrderedDict([('value', '偏南風'), ('measures', '16方位')]))]), OrderedDict([('dataTime', '2019-06-28T15:00:00+08:00'), ('elementValue', OrderedDict([('value', '西南風'), ('measures', '16方位')]))]), OrderedDict([('dataTime', '2019-06-28T18:00:00+08:00'), ('elementValue', OrderedDict([('value', '偏南風'), ('measures', '16方位')]))]), OrderedDict([('dataTime', '2019-06-28T21:00:00+08:00'), ('elementValue', OrderedDict([('value', '偏南風'), ('measures', '16方位')]))]), OrderedDict([('dataTime', '2019-06-29T00:00:00+08:00'), ('elementValue', OrderedDict([('value', '西南風'), ('measures', '16方位')]))]), OrderedDict([('dataTime', '2019-06-29T03:00:00+08:00'), ('elementValue', OrderedDict([('value', '東南風'), ('measures', '16方位')]))]), OrderedDict([('dataTime', '2019-06-29T06:00:00+08:00'), ('elementValue', OrderedDict([('value', '偏南風'), ('measures', '16方位')]))]), OrderedDict([('dataTime', '2019-06-29T09:00:00+08:00'), ('elementValue', OrderedDict([('value', '偏西風'), ('measures', '16方位')]))]), OrderedDict([('dataTime', '2019-06-29T12:00:00+08:00'), ('elementValue', OrderedDict([('value', '西南風'), ('measures', '16方位')]))]), OrderedDict([('dataTime', '2019-06-29T15:00:00+08:00'), ('elementValue', OrderedDict([('value', '西南風'), ('measures', '16方位')]))]), OrderedDict([('dataTime', '2019-06-29T18:00:00+08:00'), ('elementValue', OrderedDict([('value', '偏南風'), ('measures', '16方位')]))]), OrderedDict([('dataTime', '2019-06-29T21:00:00+08:00'), ('elementValue', OrderedDict([('value', '偏南風'), ('measures', '16方位')]))]), OrderedDict([('dataTime', '2019-06-30T00:00:00+08:00'), ('elementValue', OrderedDict([('value', '偏南風'), ('measures', '16方位')]))]), OrderedDict([('dataTime', '2019-06-30T03:00:00+08:00'), ('elementValue', OrderedDict([('value', '偏南風'), ('measures', '16方位')]))]), OrderedDict([('dataTime', '2019-06-30T06:00:00+08:00'), ('elementValue', OrderedDict([('value', '偏南風'), ('measures', '16方位')]))]), OrderedDict([('dataTime', '2019-06-30T09:00:00+08:00'), ('elementValue', OrderedDict([('value', '西南風'), ('measures', '16方位')]))]), OrderedDict([('dataTime', '2019-06-30T12:00:00+08:00'), ('elementValue', OrderedDict([('value', '西南風'), ('measures', '16方位')]))]), OrderedDict([('dataTime', '2019-06-30T15:00:00+08:00'), ('elementValue', OrderedDict([('value', '西南風'), ('measures', '16方位')]))]), OrderedDict([('dataTime', '2019-06-30T18:00:00+08:00'), ('elementValue', OrderedDict([('value', '偏南風'), ('measures', '16方位')]))]), OrderedDict([('dataTime', '2019-06-30T21:00:00+08:00'), ('elementValue', OrderedDict([('value', '偏南風'), ('measures', '16方位')]))]), OrderedDict([('dataTime', '2019-07-01T00:00:00+08:00'), ('elementValue', OrderedDict([('value', '偏南風'), ('measures', '16方位')]))]), OrderedDict([('dataTime', '2019-07-01T03:00:00+08:00'), ('elementValue', OrderedDict([('value', '偏南風'), ('measures', '16方位')]))]), OrderedDict([('dataTime', '2019-07-01T06:00:00+08:00'), ('elementValue', OrderedDict([('value', '偏南風'), ('measures', '16方位')]))]), OrderedDict([('dataTime', '2019-07-01T09:00:00+08:00'), ('elementValue', OrderedDict([('value', '偏南風'), ('measures', '16方位')]))])])]), OrderedDict([('elementName', 'WS'), ('description', '風速'), ('time', [OrderedDict([('dataTime', '2019-06-28T12:00:00+08:00'), ('elementValue', [OrderedDict([('value', '2'), ('measures', '公尺/秒')]), OrderedDict([('value', '2'), ('measures', '蒲福風級')])])]), OrderedDict([('dataTime', '2019-06-28T15:00:00+08:00'), ('elementValue', [OrderedDict([('value', '2'), ('measures', '公尺/秒')]), OrderedDict([('value', '2'), ('measures', '蒲福風級')])])]), OrderedDict([('dataTime', '2019-06-28T18:00:00+08:00'), ('elementValue', [OrderedDict([('value', '2'), ('measures', '公尺/秒')]), OrderedDict([('value', '2'), ('measures', '蒲福風級')])])]), OrderedDict([('dataTime', '2019-06-28T21:00:00+08:00'), ('elementValue', [OrderedDict([('value', '2'), ('measures', '公尺/秒')]), OrderedDict([('value', '<= 1'), ('measures', '蒲福風級')])])]), OrderedDict([('dataTime', '2019-06-29T00:00:00+08:00'), ('elementValue', [OrderedDict([('value', '2'), ('measures', '公尺/秒')]), OrderedDict([('value', '<= 1'), ('measures', '蒲福風級')])])]), OrderedDict([('dataTime', '2019-06-29T03:00:00+08:00'), ('elementValue', [OrderedDict([('value', '2'), ('measures', '公尺/秒')]), OrderedDict([('value', '2'), ('measures', '蒲福風級')])])]), OrderedDict([('dataTime', '2019-06-29T06:00:00+08:00'), ('elementValue', [OrderedDict([('value', '2'), ('measures', '公尺/秒')]), OrderedDict([('value', '2'), ('measures', '蒲福風級')])])]), OrderedDict([('dataTime', '2019-06-29T09:00:00+08:00'), ('elementValue', [OrderedDict([('value', '3'), ('measures', '公尺/秒')]), OrderedDict([('value', '2'), ('measures', '蒲福風級')])])]), OrderedDict([('dataTime', '2019-06-29T12:00:00+08:00'), ('elementValue', [OrderedDict([('value', '3'), ('measures', '公尺/秒')]), OrderedDict([('value', '2'), ('measures', '蒲福風級')])])]), OrderedDict([('dataTime', '2019-06-29T15:00:00+08:00'), ('elementValue', [OrderedDict([('value', '3'), ('measures', '公尺/秒')]), OrderedDict([('value', '2'), ('measures', '蒲福風級')])])]), OrderedDict([('dataTime', '2019-06-29T18:00:00+08:00'), ('elementValue', [OrderedDict([('value', '2'), ('measures', '公尺/秒')]), OrderedDict([('value', '2'), ('measures', '蒲福風級')])])]), OrderedDict([('dataTime', '2019-06-29T21:00:00+08:00'), ('elementValue', [OrderedDict([('value', '2'), ('measures', '公尺/秒')]), OrderedDict([('value', '<= 1'), ('measures', '蒲福風級')])])]), OrderedDict([('dataTime', '2019-06-30T00:00:00+08:00'), ('elementValue', [OrderedDict([('value', '2'), ('measures', '公尺/秒')]), OrderedDict([('value', '<= 1'), ('measures', '蒲福風級')])])]), OrderedDict([('dataTime', '2019-06-30T03:00:00+08:00'), ('elementValue', [OrderedDict([('value', '2'), ('measures', '公尺/秒')]), OrderedDict([('value', '2'), ('measures', '蒲福風級')])])]), OrderedDict([('dataTime', '2019-06-30T06:00:00+08:00'), ('elementValue', [OrderedDict([('value', '2'), ('measures', '公尺/秒')]), OrderedDict([('value', '2'), ('measures', '蒲福風級')])])]), OrderedDict([('dataTime', '2019-06-30T09:00:00+08:00'), ('elementValue', [OrderedDict([('value', '3'), ('measures', '公尺/秒')]), OrderedDict([('value', '2'), ('measures', '蒲福風級')])])]), OrderedDict([('dataTime', '2019-06-30T12:00:00+08:00'), ('elementValue', [OrderedDict([('value', '2'), ('measures', '公尺/秒')]), OrderedDict([('value', '2'), ('measures', '蒲福風級')])])]), OrderedDict([('dataTime', '2019-06-30T15:00:00+08:00'), ('elementValue', [OrderedDict([('value', '2'), ('measures', '公尺/秒')]), OrderedDict([('value', '2'), ('measures', '蒲福風級')])])]), OrderedDict([('dataTime', '2019-06-30T18:00:00+08:00'), ('elementValue', [OrderedDict([('value', '2'), ('measures', '公尺/秒')]), OrderedDict([('value', '2'), ('measures', '蒲福風級')])])]), OrderedDict([('dataTime', '2019-06-30T21:00:00+08:00'), ('elementValue', [OrderedDict([('value', '2'), ('measures', '公尺/秒')]), OrderedDict([('value', '2'), ('measures', '蒲福風級')])])]), OrderedDict([('dataTime', '2019-07-01T00:00:00+08:00'), ('elementValue', [OrderedDict([('value', '3'), ('measures', '公尺/秒')]), OrderedDict([('value', '2'), ('measures', '蒲福風級')])])]), OrderedDict([('dataTime', '2019-07-01T03:00:00+08:00'), ('elementValue', [OrderedDict([('value', '5'), ('measures', '公尺/秒')]), OrderedDict([('value', '3'), ('measures', '蒲福風級')])])]), OrderedDict([('dataTime', '2019-07-01T06:00:00+08:00'), ('elementValue', [OrderedDict([('value', '7'), ('measures', '公尺/秒')]), OrderedDict([('value', '4'), ('measures', '蒲福風級')])])]), OrderedDict([('dataTime', '2019-07-01T09:00:00+08:00'), ('elementValue', [OrderedDict([('value', '5'), ('measures', '公尺/秒')]), OrderedDict([('value', '3'), ('measures', '蒲福風級')])])])])]), OrderedDict([('elementName', 'CI'), ('description', '舒適度指數'), ('time', [OrderedDict([('dataTime', '2019-06-28T12:00:00+08:00'), ('elementValue', [OrderedDict([('value', '31'), ('measures', 'NA')]), OrderedDict([('value', '易中暑'), ('measures', '自定義 CI 文字')])])]), OrderedDict([('dataTime', '2019-06-28T15:00:00+08:00'), ('elementValue', [OrderedDict([('value', '31'), ('measures', 'NA')]), OrderedDict([('value', '易中暑'), ('measures', '自定義 CI 文字')])])]), OrderedDict([('dataTime', '2019-06-28T18:00:00+08:00'), ('elementValue', [OrderedDict([('value', '30'), ('measures', 'NA')]), OrderedDict([('value', '悶熱'), ('measures', '自定義 CI 文字')])])]), OrderedDict([('dataTime', '2019-06-28T21:00:00+08:00'), ('elementValue', [OrderedDict([('value', '29'), ('measures', 'NA')]), OrderedDict([('value', '悶熱'), ('measures', '自定義 CI 文字')])])]), OrderedDict([('dataTime', '2019-06-29T00:00:00+08:00'), ('elementValue', [OrderedDict([('value', '28'), ('measures', 'NA')]), OrderedDict([('value', '悶熱'), ('measures', '自定義 CI 文字')])])]), OrderedDict([('dataTime', '2019-06-29T03:00:00+08:00'), ('elementValue', [OrderedDict([('value', '28'), ('measures', 'NA')]), OrderedDict([('value', '悶熱'), ('measures', '自定義 CI 文字')])])]), OrderedDict([('dataTime', '2019-06-29T06:00:00+08:00'), ('elementValue', [OrderedDict([('value', '28'), ('measures', 'NA')]), OrderedDict([('value', '悶熱'), ('measures', '自定義 CI 文字')])])]), OrderedDict([('dataTime', '2019-06-29T09:00:00+08:00'), ('elementValue', [OrderedDict([('value', '30'), ('measures', 'NA')]), OrderedDict([('value', '易中暑'), ('measures', '自定義 CI 文字')])])]), OrderedDict([('dataTime', '2019-06-29T12:00:00+08:00'), ('elementValue', [OrderedDict([('value', '31'), ('measures', 'NA')]), OrderedDict([('value', '易中暑'), ('measures', '自定義 CI 文字')])])]), OrderedDict([('dataTime', '2019-06-29T15:00:00+08:00'), ('elementValue', [OrderedDict([('value', '30'), ('measures', 'NA')]), OrderedDict([('value', '悶熱'), ('measures', '自定義 CI 文字')])])]), OrderedDict([('dataTime', '2019-06-29T18:00:00+08:00'), ('elementValue', [OrderedDict([('value', '29'), ('measures', 'NA')]), OrderedDict([('value', '悶熱'), ('measures', '自定義 CI 文字')])])]), OrderedDict([('dataTime', '2019-06-29T21:00:00+08:00'), ('elementValue', [OrderedDict([('value', '28'), ('measures', 'NA')]), OrderedDict([('value', '悶熱'), ('measures', '自定義 CI 文字')])])]), OrderedDict([('dataTime', '2019-06-30T00:00:00+08:00'), ('elementValue', [OrderedDict([('value', '28'), ('measures', 'NA')]), OrderedDict([('value', '悶熱'), ('measures', '自定義 CI 文字')])])]), OrderedDict([('dataTime', '2019-06-30T03:00:00+08:00'), ('elementValue', [OrderedDict([('value', '28'), ('measures', 'NA')]), OrderedDict([('value', '悶熱'), ('measures', '自定義 CI 文字')])])]), OrderedDict([('dataTime', '2019-06-30T06:00:00+08:00'), ('elementValue', [OrderedDict([('value', '27'), ('measures', 'NA')]), OrderedDict([('value', '悶熱'), ('measures', '自定義 CI 文字')])])]), OrderedDict([('dataTime', '2019-06-30T09:00:00+08:00'), ('elementValue', [OrderedDict([('value', '29'), ('measures', 'NA')]), OrderedDict([('value', '悶熱'), ('measures', '自定義 CI 文字')])])]), OrderedDict([('dataTime', '2019-06-30T12:00:00+08:00'), ('elementValue', [OrderedDict([('value', '30'), ('measures', 'NA')]), OrderedDict([('value', '易中暑'), ('measures', '自定義 CI 文字')])])]), OrderedDict([('dataTime', '2019-06-30T15:00:00+08:00'), ('elementValue', [OrderedDict([('value', '30'), ('measures', 'NA')]), OrderedDict([('value', '悶熱'), ('measures', '自定義 CI 文字')])])]), OrderedDict([('dataTime', '2019-06-30T18:00:00+08:00'), ('elementValue', [OrderedDict([('value', '29'), ('measures', 'NA')]), OrderedDict([('value', '悶熱'), ('measures', '自定義 CI 文字')])])]), OrderedDict([('dataTime', '2019-06-30T21:00:00+08:00'), ('elementValue', [OrderedDict([('value', '28'), ('measures', 'NA')]), OrderedDict([('value', '悶熱'), ('measures', '自定義 CI 文字')])])]), OrderedDict([('dataTime', '2019-07-01T00:00:00+08:00'), ('elementValue', [OrderedDict([('value', '28'), ('measures', 'NA')]), OrderedDict([('value', '悶熱'), ('measures', '自定義 CI 文字')])])]), OrderedDict([('dataTime', '2019-07-01T03:00:00+08:00'), ('elementValue', [OrderedDict([('value', '28'), ('measures', 'NA')]), OrderedDict([('value', '悶熱'), ('measures', '自定義 CI 文字')])])]), OrderedDict([('dataTime', '2019-07-01T06:00:00+08:00'), ('elementValue', [OrderedDict([('value', '27'), ('measures', 'NA')]), OrderedDict([('value', '悶熱'), ('measures', '自定義 CI 文字')])])]), OrderedDict([('dataTime', '2019-07-01T09:00:00+08:00'), ('elementValue', [OrderedDict([('value', '30'), ('measures', 'NA')]), OrderedDict([('value', '悶熱'), ('measures', '自定義 CI 文字')])])])])]), OrderedDict([('elementName', 'AT'), ('description', '體感溫度'), ('time', [OrderedDict([('dataTime', '2019-06-28T12:00:00+08:00'), ('elementValue', OrderedDict([('value', '38'), ('measures', '攝氏度')]))]), OrderedDict([('dataTime', '2019-06-28T15:00:00+08:00'), ('elementValue', OrderedDict([('value', '38'), ('measures', '攝氏度')]))]), OrderedDict([('dataTime', '2019-06-28T18:00:00+08:00'), ('elementValue', OrderedDict([('value', '36'), ('measures', '攝氏度')]))]), OrderedDict([('dataTime', '2019-06-28T21:00:00+08:00'), ('elementValue', OrderedDict([('value', '34'), ('measures', '攝氏度')]))]), OrderedDict([('dataTime', '2019-06-29T00:00:00+08:00'), ('elementValue', OrderedDict([('value', '34'), ('measures', '攝氏度')]))]), OrderedDict([('dataTime', '2019-06-29T03:00:00+08:00'), ('elementValue', OrderedDict([('value', '33'), ('measures', '攝氏度')]))]), OrderedDict([('dataTime', '2019-06-29T06:00:00+08:00'), ('elementValue', OrderedDict([('value', '32'), ('measures', '攝氏度')]))]), OrderedDict([('dataTime', '2019-06-29T09:00:00+08:00'), ('elementValue', OrderedDict([('value', '36'), ('measures', '攝氏度')]))]), OrderedDict([('dataTime', '2019-06-29T12:00:00+08:00'), ('elementValue', OrderedDict([('value', '38'), ('measures', '攝氏度')]))]), OrderedDict([('dataTime', '2019-06-29T15:00:00+08:00'), ('elementValue', OrderedDict([('value', '36'), ('measures', '攝氏度')]))]), OrderedDict([('dataTime', '2019-06-29T18:00:00+08:00'), ('elementValue', OrderedDict([('value', '35'), ('measures', '攝氏度')]))]), OrderedDict([('dataTime', '2019-06-29T21:00:00+08:00'), ('elementValue', OrderedDict([('value', '34'), ('measures', '攝氏度')]))]), OrderedDict([('dataTime', '2019-06-30T00:00:00+08:00'), ('elementValue', OrderedDict([('value', '34'), ('measures', '攝氏度')]))]), OrderedDict([('dataTime', '2019-06-30T03:00:00+08:00'), ('elementValue', OrderedDict([('value', '33'), ('measures', '攝氏度')]))]), OrderedDict([('dataTime', '2019-06-30T06:00:00+08:00'), ('elementValue', OrderedDict([('value', '32'), ('measures', '攝氏度')]))]), OrderedDict([('dataTime', '2019-06-30T09:00:00+08:00'), ('elementValue', OrderedDict([('value', '35'), ('measures', '攝氏度')]))]), OrderedDict([('dataTime', '2019-06-30T12:00:00+08:00'), ('elementValue', OrderedDict([('value', '37'), ('measures', '攝氏度')]))]), OrderedDict([('dataTime', '2019-06-30T15:00:00+08:00'), ('elementValue', OrderedDict([('value', '36'), ('measures', '攝氏度')]))]), OrderedDict([('dataTime', '2019-06-30T18:00:00+08:00'), ('elementValue', OrderedDict([('value', '35'), ('measures', '攝氏度')]))]), OrderedDict([('dataTime', '2019-06-30T21:00:00+08:00'), ('elementValue', OrderedDict([('value', '34'), ('measures', '攝氏度')]))]), OrderedDict([('dataTime', '2019-07-01T00:00:00+08:00'), ('elementValue', OrderedDict([('value', '33'), ('measures', '攝氏度')]))]), OrderedDict([('dataTime', '2019-07-01T03:00:00+08:00'), ('elementValue', OrderedDict([('value', '32'), ('measures', '攝氏度')]))]), OrderedDict([('dataTime', '2019-07-01T06:00:00+08:00'), ('elementValue', OrderedDict([('value', '30'), ('measures', '攝氏度')]))]), OrderedDict([('dataTime', '2019-07-01T09:00:00+08:00'), ('elementValue', OrderedDict([('value', '33'), ('measures', '攝氏度')]))])])]), OrderedDict([('elementName', 'Wx'), ('description', '天氣現象'), ('time', [OrderedDict([('startTime', '2019-06-28T12:00:00+08:00'), ('endTime', '2019-06-28T15:00:00+08:00'), ('elementValue', [OrderedDict([('value', '多雲'), ('measures', '自定義 Wx 文字')]), OrderedDict([('value', '04'), ('measures', '自定義 Wx 單位')])])]), OrderedDict([('startTime', '2019-06-28T15:00:00+08:00'), ('endTime', '2019-06-28T18:00:00+08:00'), ('elementValue', [OrderedDict([('value', '多雲'), ('measures', '自定義 Wx 文字')]), OrderedDict([('value', '04'), ('measures', '自定義 Wx 單位')])])]), OrderedDict([('startTime', '2019-06-28T18:00:00+08:00'), ('endTime', '2019-06-28T21:00:00+08:00'), ('elementValue', [OrderedDict([('value', '晴'), ('measures', '自定義 Wx 文字')]), OrderedDict([('value', '01'), ('measures', '自定義 Wx 單位')])])]), OrderedDict([('startTime', '2019-06-28T21:00:00+08:00'), ('endTime', '2019-06-29T00:00:00+08:00'), ('elementValue', [OrderedDict([('value', '短暫陣雨或雷雨'), ('measures', '自定義 Wx 文字')]), OrderedDict([('value', '15'), ('measures', '自定義 Wx 單位')])])]), OrderedDict([('startTime', '2019-06-29T00:00:00+08:00'), ('endTime', '2019-06-29T03:00:00+08:00'), ('elementValue', [OrderedDict([('value', '短暫陣雨或雷雨'), ('measures', '自定義 Wx 文字')]), OrderedDict([('value', '15'), ('measures', '自定義 Wx 單位')])])]), OrderedDict([('startTime', '2019-06-29T03:00:00+08:00'), ('endTime', '2019-06-29T06:00:00+08:00'), ('elementValue', [OrderedDict([('value', '短暫陣雨或雷雨'), ('measures', '自定義 Wx 文字')]), OrderedDict([('value', '15'), ('measures', '自定義 Wx 單位')])])]), OrderedDict([('startTime', '2019-06-29T06:00:00+08:00'), ('endTime', '2019-06-29T09:00:00+08:00'), ('elementValue', [OrderedDict([('value', '短暫陣雨或雷雨'), ('measures', '自定義 Wx 文字')]), OrderedDict([('value', '15'), ('measures', '自定義 Wx 單位')])])]), OrderedDict([('startTime', '2019-06-29T09:00:00+08:00'), ('endTime', '2019-06-29T12:00:00+08:00'), ('elementValue', [OrderedDict([('value', '短暫陣雨或雷雨'), ('measures', '自定義 Wx 文字')]), OrderedDict([('value', '15'), ('measures', '自定義 Wx 單位')])])]), OrderedDict([('startTime', '2019-06-29T12:00:00+08:00'), ('endTime', '2019-06-29T15:00:00+08:00'), ('elementValue', [OrderedDict([('value', '晴'), ('measures', '自定義 Wx 文字')]), OrderedDict([('value', '01'), ('measures', '自定義 Wx 單位')])])]), OrderedDict([('startTime', '2019-06-29T15:00:00+08:00'), ('endTime', '2019-06-29T18:00:00+08:00'), ('elementValue', [OrderedDict([('value', '短暫陣雨或雷雨'), ('measures', '自定義 Wx 文字')]), OrderedDict([('value', '15'), ('measures', '自定義 Wx 單位')])])]), OrderedDict([('startTime', '2019-06-29T18:00:00+08:00'), ('endTime', '2019-06-29T21:00:00+08:00'), ('elementValue', [OrderedDict([('value', '多雲'), ('measures', '自定義 Wx 文字')]), OrderedDict([('value', '04'), ('measures', '自定義 Wx 單位')])])]), OrderedDict([('startTime', '2019-06-29T21:00:00+08:00'), ('endTime', '2019-06-30T00:00:00+08:00'), ('elementValue', [OrderedDict([('value', '短暫陣雨或雷雨'), ('measures', '自定義 Wx 文字')]), OrderedDict([('value', '15'), ('measures', '自定義 Wx 單位')])])]), OrderedDict([('startTime', '2019-06-30T00:00:00+08:00'), ('endTime', '2019-06-30T03:00:00+08:00'), ('elementValue', [OrderedDict([('value', '短暫陣雨或雷雨'), ('measures', '自定義 Wx 文字')]), OrderedDict([('value', '15'), ('measures', '自定義 Wx 單位')])])]), OrderedDict([('startTime', '2019-06-30T03:00:00+08:00'), ('endTime', '2019-06-30T06:00:00+08:00'), ('elementValue', [OrderedDict([('value', '短暫陣雨或雷雨'), ('measures', '自定義 Wx 文字')]), OrderedDict([('value', '15'), ('measures', '自定義 Wx 單位')])])]), OrderedDict([('startTime', '2019-06-30T06:00:00+08:00'), ('endTime', '2019-06-30T09:00:00+08:00'), ('elementValue', [OrderedDict([('value', '短暫陣雨或雷雨'), ('measures', '自定義 Wx 文字')]), OrderedDict([('value', '15'), ('measures', '自定義 Wx 單位')])])]), OrderedDict([('startTime', '2019-06-30T09:00:00+08:00'), ('endTime', '2019-06-30T12:00:00+08:00'), ('elementValue', [OrderedDict([('value', '短暫陣雨或雷雨'), ('measures', '自定義 Wx 文字')]), OrderedDict([('value', '15'), ('measures', '自定義 Wx 單位')])])]), OrderedDict([('startTime', '2019-06-30T12:00:00+08:00'), ('endTime', '2019-06-30T15:00:00+08:00'), ('elementValue', [OrderedDict([('value', '短暫陣雨或雷雨'), ('measures', '自定義 Wx 文字')]), OrderedDict([('value', '15'), ('measures', '自定義 Wx 單位')])])]), OrderedDict([('startTime', '2019-06-30T15:00:00+08:00'), ('endTime', '2019-06-30T18:00:00+08:00'), ('elementValue', [OrderedDict([('value', '晴'), ('measures', '自定義 Wx 文字')]), OrderedDict([('value', '01'), ('measures', '自定義 Wx 單位')])])]), OrderedDict([('startTime', '2019-06-30T18:00:00+08:00'), ('endTime', '2019-06-30T21:00:00+08:00'), ('elementValue', [OrderedDict([('value', '多雲'), ('measures', '自定義 Wx 文字')]), OrderedDict([('value', '04'), ('measures', '自定義 Wx 單位')])])]), OrderedDict([('startTime', '2019-06-30T21:00:00+08:00'), ('endTime', '2019-07-01T00:00:00+08:00'), ('elementValue', [OrderedDict([('value', '多雲'), ('measures', '自定義 Wx 文字')]), OrderedDict([('value', '04'), ('measures', '自定義 Wx 單位')])])]), OrderedDict([('startTime', '2019-07-01T00:00:00+08:00'), ('endTime', '2019-07-01T03:00:00+08:00'), ('elementValue', [OrderedDict([('value', '短暫陣雨或雷雨'), ('measures', '自定義 Wx 文字')]), OrderedDict([('value', '15'), ('measures', '自定義 Wx 單位')])])]), OrderedDict([('startTime', '2019-07-01T03:00:00+08:00'), ('endTime', '2019-07-01T06:00:00+08:00'), ('elementValue', [OrderedDict([('value', '短暫陣雨或雷雨'), ('measures', '自定義 Wx 文字')]), OrderedDict([('value', '15'), ('measures', '自定義 Wx 單位')])])]), OrderedDict([('startTime', '2019-07-01T06:00:00+08:00'), ('endTime', '2019-07-01T09:00:00+08:00'), ('elementValue', [OrderedDict([('value', '短暫陣雨或雷雨'), ('measures', '自定義 Wx 文字')]), OrderedDict([('value', '15'), ('measures', '自定義 Wx 單位')])])]), OrderedDict([('startTime', '2019-07-01T09:00:00+08:00'), ('endTime', '2019-07-01T12:00:00+08:00'), ('elementValue', [OrderedDict([('value', '短暫陣雨或雷雨'), ('measures', '自定義 Wx 文字')]), OrderedDict([('value', '15'), ('measures', '自定義 Wx 單位')])])])])]), OrderedDict([('elementName', 'WeatherDescription'), ('description', '天氣預報綜合描述'), ('time', [OrderedDict([('startTime', '2019-06-28T12:00:00+08:00'), ('endTime', '2019-06-28T15:00:00+08:00'), ('elementValue', OrderedDict([('value', '多雲。降雨機率 10%。溫度攝氏33度。易中暑。偏南風 平均風速1-2級(每秒2公尺)。相對濕度86%。'), ('measures', 'NA')]))]), OrderedDict([('startTime', '2019-06-28T15:00:00+08:00'), ('endTime', '2019-06-28T18:00:00+08:00'), ('elementValue', OrderedDict([('value', '多雲。降雨機率 10%。溫度攝氏33度。易中暑。西南風 平均風速1-2級(每秒2公尺)。相對濕度80%。'), ('measures', 'NA')]))]), OrderedDict([('startTime', '2019-06-28T18:00:00+08:00'), ('endTime', '2019-06-28T21:00:00+08:00'), ('elementValue', OrderedDict([('value', '晴。降雨機率 30%。溫度攝氏32度。悶熱。偏南風 平均風速1-2級(每秒2公尺)。相對濕度79%。'), ('measures', 'NA')]))]), OrderedDict([('startTime', '2019-06-28T21:00:00+08:00'), ('endTime', '2019-06-29T00:00:00+08:00'), ('elementValue', OrderedDict([('value', '短暫陣雨或雷雨。降雨機率 30%。溫度攝氏30度。悶熱。偏南風 平均風速<= 1級(每秒2公尺)。相對濕度83%。'), ('measures', 'NA')]))]), OrderedDict([('startTime', '2019-06-29T00:00:00+08:00'), ('endTime', '2019-06-29T03:00:00+08:00'), ('elementValue', OrderedDict([('value', '短暫陣雨或雷雨。降雨機率 40%。溫度攝氏30度。悶熱。西南風 平均風速<= 1級(每秒2公尺)。相對濕度87%。'), ('measures', 'NA')]))]), OrderedDict([('startTime', '2019-06-29T03:00:00+08:00'), ('endTime', '2019-06-29T06:00:00+08:00'), ('elementValue', OrderedDict([('value', '短暫陣雨或雷雨。降雨機率 40%。溫度攝氏29度。悶熱。東南風 平均風速1-2級(每秒2公尺)。相對濕度88%。'), ('measures', 'NA')]))]), OrderedDict([('startTime', '2019-06-29T06:00:00+08:00'), ('endTime', '2019-06-29T09:00:00+08:00'), ('elementValue', OrderedDict([('value', '短暫陣雨或雷雨。降雨機率 30%。溫度攝氏28度。悶熱。偏南風 平均風速1-2級(每秒2公尺)。相對濕度91%。'), ('measures', 'NA')]))]), OrderedDict([('startTime', '2019-06-29T09:00:00+08:00'), ('endTime', '2019-06-29T12:00:00+08:00'), ('elementValue', OrderedDict([('value', '短暫陣雨或雷雨。降雨機率 30%。溫度攝氏31度。易中暑。偏西風 平均風速1-2級(每秒3公尺)。相對濕度91%。'), ('measures', 'NA')]))]), OrderedDict([('startTime', '2019-06-29T12:00:00+08:00'), ('endTime', '2019-06-29T15:00:00+08:00'), ('elementValue', OrderedDict([('value', '晴。降雨機率 30%。溫度攝氏32度。易中暑。西南風 平均風速1-2級(每秒3公尺)。相對濕度85%。'), ('measures', 'NA')]))]), OrderedDict([('startTime', '2019-06-29T15:00:00+08:00'), ('endTime', '2019-06-29T18:00:00+08:00'), ('elementValue', OrderedDict([('value', '短暫陣雨或雷雨。降雨機率 30%。溫度攝氏32度。悶熱。西南風 平均風速1-2級(每秒3公尺)。相對濕度77%。'), ('measures', 'NA')]))]), OrderedDict([('startTime', '2019-06-29T18:00:00+08:00'), ('endTime', '2019-06-29T21:00:00+08:00'), ('elementValue', OrderedDict([('value', '多雲。降雨機率 30%。溫度攝氏31度。悶熱。偏南風 平均風速1-2級(每秒2公尺)。相對濕度77%。'), ('measures', 'NA')]))]), OrderedDict([('startTime', '2019-06-29T21:00:00+08:00'), ('endTime', '2019-06-30T00:00:00+08:00'), ('elementValue', OrderedDict([('value', '短暫陣雨或雷雨。降雨機率 30%。溫度攝氏30度。悶熱。偏南風 平均風速<= 1級(每秒2公尺)。相對濕度83%。'), ('measures', 'NA')]))]), OrderedDict([('startTime', '2019-06-30T00:00:00+08:00'), ('endTime', '2019-06-30T03:00:00+08:00'), ('elementValue', OrderedDict([('value', '短暫陣雨或雷雨。降雨機率 50%。溫度攝氏29度。悶熱。偏南風 平均風速<= 1級(每秒2公尺)。相對濕度87%。'), ('measures', 'NA')]))]), OrderedDict([('startTime', '2019-06-30T03:00:00+08:00'), ('endTime', '2019-06-30T06:00:00+08:00'), ('elementValue', OrderedDict([('value', '短暫陣雨或雷雨。降雨機率 50%。溫度攝氏28度。悶熱。偏南風 平均風速1-2級(每秒2公尺)。相對濕度89%。'), ('measures', 'NA')]))]), OrderedDict([('startTime', '2019-06-30T06:00:00+08:00'), ('endTime', '2019-06-30T09:00:00+08:00'), ('elementValue', OrderedDict([('value', '短暫陣雨或雷雨。降雨機率 30%。溫度攝氏28度。悶熱。偏南風 平均風速1-2級(每秒2公尺)。相對濕度89%。'), ('measures', 'NA')]))]), OrderedDict([('startTime', '2019-06-30T09:00:00+08:00'), ('endTime', '2019-06-30T12:00:00+08:00'), ('elementValue', OrderedDict([('value', '短暫陣雨或雷雨。降雨機率 30%。溫度攝氏31度。悶熱。西南風 平均風速1-2級(每秒3公尺)。相對濕度86%。'), ('measures', 'NA')]))]), OrderedDict([('startTime', '2019-06-30T12:00:00+08:00'), ('endTime', '2019-06-30T15:00:00+08:00'), ('elementValue', OrderedDict([('value', '短暫陣雨或雷雨。降雨機率 30%。溫度攝氏32度。易中暑。西南風 平均風速1-2級(每秒2公尺)。相對濕度81%。'), ('measures', 'NA')]))]), OrderedDict([('startTime', '2019-06-30T15:00:00+08:00'), ('endTime', '2019-06-30T18:00:00+08:00'), ('elementValue', OrderedDict([('value', '晴。降雨機率 30%。溫度攝氏32度。悶熱。西南風 平均風速1-2級(每秒2公尺)。相對濕度77%。'), ('measures', 'NA')]))]), OrderedDict([('startTime', '2019-06-30T18:00:00+08:00'), ('endTime', '2019-06-30T21:00:00+08:00'), ('elementValue', OrderedDict([('value', '多雲。降雨機率 10%。溫度攝氏31度。悶熱。偏南風 平均風速1-2級(每秒2公尺)。相對濕度77%。'), ('measures', 'NA')]))]), OrderedDict([('startTime', '2019-06-30T21:00:00+08:00'), ('endTime', '2019-07-01T00:00:00+08:00'), ('elementValue', OrderedDict([('value', '多雲。降雨機率 10%。溫度攝氏30度。悶熱。偏南風 平均風速1-2級(每秒2公尺)。相對濕度79%。'), ('measures', 'NA')]))]), OrderedDict([('startTime', '2019-07-01T00:00:00+08:00'), ('endTime', '2019-07-01T03:00:00+08:00'), ('elementValue', OrderedDict([('value', '短暫陣雨或雷雨。降雨機率 30%。溫度攝氏29度。悶熱。偏南風 平均風速1-2級(每秒3公尺)。相對濕度83%。'), ('measures', 'NA')]))]), OrderedDict([('startTime', '2019-07-01T03:00:00+08:00'), ('endTime', '2019-07-01T06:00:00+08:00'), ('elementValue', OrderedDict([('value', '短暫陣雨或雷雨。降雨機率 30%。溫度攝氏29度。悶熱。偏南風 平均風速2-3級(每秒5公尺)。相對濕度86%。'), ('measures', 'NA')]))]), OrderedDict([('startTime', '2019-07-01T06:00:00+08:00'), ('endTime', '2019-07-01T09:00:00+08:00'), ('elementValue', OrderedDict([('value', '短暫陣雨或雷雨。降雨機率 30%。溫度攝氏28度。悶熱。偏南風 平均風速3-4級(每秒7公尺)。相對濕度88%。'), ('measures', 'NA')]))]), OrderedDict([('startTime', '2019-07-01T09:00:00+08:00'), ('endTime', '2019-07-01T12:00:00+08:00'), ('elementValue', OrderedDict([('value', '短暫陣雨或雷雨。降雨機率 30%。溫度攝氏31度。悶熱。偏南風 平均風速2-3級(每秒5公尺)。相對濕度87%。'), ('measures', 'NA')]))])])])])])\n"
     ]
    }
   ],
   "source": [
    "import xmltodict\n",
    "#xml.find('高雄市') #819\n",
    "d = dict(xmltodict.parse(xml))\n",
    "print(d['cwbopendata']['dataset']['locations'].keys())\n",
    "print( d['cwbopendata']['dataset']['locations']['location'][0])\n",
    "\n",
    "  \n",
    "#print(xml[:3000])"
   ]
  }
 ],
 "metadata": {
  "kernelspec": {
   "display_name": "Python 3",
   "language": "python",
   "name": "python3"
  },
  "language_info": {
   "codemirror_mode": {
    "name": "ipython",
    "version": 3
   },
   "file_extension": ".py",
   "mimetype": "text/x-python",
   "name": "python",
   "nbconvert_exporter": "python",
   "pygments_lexer": "ipython3",
   "version": "3.7.6"
  }
 },
 "nbformat": 4,
 "nbformat_minor": 4
}
