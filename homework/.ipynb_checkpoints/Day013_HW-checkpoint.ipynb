{
 "cells": [
  {
   "cell_type": "markdown",
   "metadata": {},
   "source": [
    "# PTT 網路爬蟲實作練習\n",
    "\n",
    "\n",
    "* 能夠利用 Request + BeatifulSour 撰寫爬蟲，並存放到合適的資料結構\n"
   ]
  },
  {
   "cell_type": "markdown",
   "metadata": {},
   "source": [
    "## 作業目標\n",
    "\n",
    "根據範例 ，完成以下問題：\n",
    "\n",
    "* ① 印出最新文章的「作者」「標題」「時間」\n",
    "* ② 印出第一頁所有文章的「作者」「標題」「時間」\n"
   ]
  },
  {
   "cell_type": "markdown",
   "metadata": {},
   "source": [
    "### ① 印出最新文章的「作者」「標題」「時間」"
   ]
  },
  {
   "cell_type": "code",
   "execution_count": 82,
   "metadata": {},
   "outputs": [
    {
     "name": "stdout",
     "output_type": "stream",
     "text": [
      "作者:lwy012018 (shift man)\n",
      "標題:[討論] 認真討論，大鳥柏德巔峰期是什麼水平？\n",
      "時間:Tue Mar 31 02:12:42 2020\n"
     ]
    }
   ],
   "source": [
    "import requests\n",
    "from bs4 import BeautifulSoup\n",
    "\n",
    "url = 'https://www.ptt.cc/bbs/NBA/index.html'\n",
    "r = requests.get(url)\n",
    "soup = BeautifulSoup(r.text)#, \"html5lib\")\n",
    "link = soup.body.find_all(class_ = 'title')[5].a.get('href')\n",
    "\n",
    "url_1 ='https://www.ptt.cc' + link \n",
    "r_1 = requests.get(url_1)\n",
    "soup_1 = BeautifulSoup(r_1.text) \n",
    "#soup._1.body.find(class_ = \"article-metaline\").find(class_=\"article-meta-value\").text #作者\n",
    "for i in soup_1.body.find_all(class_ = \"article-metaline\"):#.find(class_=\"article-meta-value\"):#.text:\n",
    "    print(i.find(class_=\"article-meta-tag\").text , i.find(class_=\"article-meta-value\").text,sep=':')"
   ]
  },
  {
   "cell_type": "markdown",
   "metadata": {},
   "source": [
    "### ② 印出第一頁所有文章的「作者」「標題」「時間」"
   ]
  },
  {
   "cell_type": "code",
   "execution_count": 86,
   "metadata": {
    "scrolled": true
   },
   "outputs": [
    {
     "name": "stdout",
     "output_type": "stream",
     "text": [
      "作者:Myosotis (・8・)\n",
      "標題:Re: [花邊] 美國媒體：15美元打造年齡在25歲以下陣容\n",
      "時間:Mon Mar 30 22:32:05 2020\n",
      "作者:ButterflyBao (一面湖水)\n",
      "標題:[情報] 緯來明天重播2012林書豪對籃網豪取25分\n",
      "時間:Mon Mar 30 23:17:58 2020\n",
      "作者:Gotham (萬惡之城)\n",
      "標題:[新聞] 外媒曝勇士不會選拉梅羅 因他有較大缺陷\n",
      "時間:Mon Mar 30 23:59:37 2020\n",
      "作者:jason7462 (我愛阿倫)\n",
      "標題:[花邊] 協助研發解方 NBA要痊癒球員捐血\n",
      "時間:Tue Mar 31 00:24:00 2020\n",
      "作者:iammatrix ()\n",
      "標題:Re: [花邊] 布萊恩告別戰毛巾 拍賣成交價33000美元\n",
      "時間:Tue Mar 31 00:31:58 2020\n",
      "作者:lwy012018 (shift man)\n",
      "標題:[討論] 認真討論，大鳥柏德巔峰期是什麼水平？\n",
      "時間:Tue Mar 31 02:12:42 2020\n",
      "作者:qazwsx879345 (Rajon Rondo)\n",
      "標題:[公告] 版主上任相關事項\n",
      "時間:Fri Oct 25 10:44:03 2019\n",
      "作者:Acetoxy (阿斯)\n",
      "標題:[情報] SEASON Schedule 賽程 March 19–20\n",
      "時間:Mon Mar  2 01:19:40 2020\n",
      "作者:Vedan (味丹)\n",
      "標題:[公告] 第一次被退文，可在三天後刪除退文\n",
      "時間:Mon Mar  9 11:44:26 2020\n"
     ]
    }
   ],
   "source": [
    "import time\n",
    "for i in soup.find_all(class_ = 'title'):\n",
    "    link =i.find('a').get('href')\n",
    "#link = soup.find(class_ = 'title').find('a').get('href')\n",
    "    _url = 'https://www.ptt.cc' + link\n",
    "    _r = requests.get(_url)\n",
    "    time.sleep(1)\n",
    "    _soup = BeautifulSoup(_r.text)\n",
    "#_soup.body.find(class_ = \"article-metaline\").find(class_=\"article-meta-value\").text #作者\n",
    "    for i in _soup.body.find_all(class_ = \"article-metaline\"):#.find(class_=\"article-meta-value\"):#.text:\n",
    "        print(i.find(class_=\"article-meta-tag\").text , i.find(class_=\"article-meta-value\").text,sep=':')"
   ]
  },
  {
   "cell_type": "markdown",
   "metadata": {},
   "source": [
    "### ③ 試著爬爬看其他版的文章"
   ]
  },
  {
   "cell_type": "code",
   "execution_count": 129,
   "metadata": {},
   "outputs": [
    {
     "name": "stdout",
     "output_type": "stream",
     "text": [
      "creditcard 看板\n",
      "11 Re: [心得] 多家ACH代繳卡費變更Richart代繳\n",
      "11 [心得] 挑戰多次-國泰KOKO及好市多 核卡\n",
      "1 Fw: [討論] PCHome Pi拍錢包+Pi卡支付送P幣 (120)\n",
      "3 Re: [閒聊] AmazonJP 日亞 信用卡無法刷過 發卡組織\n",
      "26 [情報] 臺銀信用卡 網購5%夠賺\n",
      "28 [問題] 剪卡會有不良影響嗎\n",
      "3 Re: [情報] 遠銀Bankee分眾 10%大灑幣\n",
      "1 [心得] 新鮮人 大戶 小白核卡\n",
      "1 [問題] 永豐大戶，燦坤分期問題\n",
      "8 [公告] === 卡板板規 V8.0 === (2018/05/25修訂)\n",
      "98 [公告] 置底檢舉專區\n",
      "79 [情報] 各家銀行0800免付費電話\n",
      "爆 [整理] 2020 小資族 日常消費 回饋統整 (01/01)\n",
      "爆 [心得] 2020上半年用卡整理 (3/17更新)\n"
     ]
    }
   ],
   "source": [
    "url = 'https://www.ptt.cc/bbs/creditcard/index.html'\n",
    "r = requests.get(url)\n",
    "soup = BeautifulSoup(r.text)\n",
    "print( soup.title.text.split(' ')[1] , soup.title.text.split(' ')[0] )\n",
    "for i in soup.body.find_all(class_='title'):\n",
    "    print(i.parent.find(class_=\"nrec\").text , i.text.replace('\\n',''))\n",
    "#soup.body.find_all(class_='title')[0].text.replace('\\n','')"
   ]
  }
 ],
 "metadata": {
  "kernelspec": {
   "display_name": "Python 3",
   "language": "python",
   "name": "python3"
  },
  "language_info": {
   "codemirror_mode": {
    "name": "ipython",
    "version": 3
   },
   "file_extension": ".py",
   "mimetype": "text/x-python",
   "name": "python",
   "nbconvert_exporter": "python",
   "pygments_lexer": "ipython3",
   "version": "3.7.6"
  }
 },
 "nbformat": 4,
 "nbformat_minor": 2
}
